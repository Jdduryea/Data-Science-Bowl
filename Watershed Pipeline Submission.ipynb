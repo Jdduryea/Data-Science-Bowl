{
 "cells": [
  {
   "cell_type": "code",
   "execution_count": 29,
   "metadata": {},
   "outputs": [
    {
     "name": "stdout",
     "output_type": "stream",
     "text": [
      "The autoreload extension is already loaded. To reload it, use:\n",
      "  %reload_ext autoreload\n"
     ]
    },
    {
     "name": "stderr",
     "output_type": "stream",
     "text": [
      "[autoreload of models failed: Traceback (most recent call last):\n",
      "  File \"/anaconda/lib/python2.7/site-packages/IPython/extensions/autoreload.py\", line 247, in check\n",
      "    superreload(m, reload, self.old_objects)\n",
      "  File \"models.py\", line 21\n",
      "    fro  skimage.morphology import watershed\n",
      "               ^\n",
      "SyntaxError: invalid syntax\n",
      "]\n"
     ]
    }
   ],
   "source": [
    "import pathlib\n",
    "import imageio\n",
    "import numpy as np\n",
    "import matplotlib.pyplot as plt\n",
    "import os\n",
    "import skimage\n",
    "from skimage.color import rgb2gray\n",
    "from scipy import stats\n",
    "import glob\n",
    "import data_utils as du\n",
    "import cv2\n",
    "from collections import defaultdict\n",
    "from skimage.color import rgb2gray\n",
    "import models\n",
    "import sklearn\n",
    "from tqdm import tqdm\n",
    "import scipy.stats as stats\n",
    "from scipy import ndimage\n",
    "from sklearn.metrics import confusion_matrix\n",
    "import warnings\n",
    "warnings.simplefilter(\"ignore\", DeprecationWarning)\n",
    "with warnings.catch_warnings():\n",
    "    warnings.filterwarnings(\"ignore\",category=DeprecationWarning)\n",
    "    import md5, sha\n",
    "%matplotlib inline\n",
    "\n",
    "%load_ext autoreload\n",
    "%autoreload 2"
   ]
  },
  {
   "cell_type": "markdown",
   "metadata": {},
   "source": [
    "# Step 1: Load data"
   ]
  },
  {
   "cell_type": "code",
   "execution_count": 11,
   "metadata": {},
   "outputs": [
    {
     "name": "stderr",
     "output_type": "stream",
     "text": [
      "670it [00:06, 99.97it/s] \n",
      "29461it [01:05, 447.75it/s]\n",
      "65it [00:01, 43.30it/s]\n"
     ]
    }
   ],
   "source": [
    "train_image_data = du.get_train_images()\n",
    "train_mask_data  = du.get_train_masks()\n",
    "test_image_data = du.get_test_images()"
   ]
  },
  {
   "cell_type": "markdown",
   "metadata": {},
   "source": [
    "# Step 2: Preprocess data"
   ]
  },
  {
   "cell_type": "code",
   "execution_count": 63,
   "metadata": {},
   "outputs": [],
   "source": [
    "for x in train_image_data:\n",
    "    du.preprocess_image(x)\n",
    "for x in test_image_data:\n",
    "    du.preprocess_image(x)"
   ]
  },
  {
   "cell_type": "code",
   "execution_count": null,
   "metadata": {
    "collapsed": true
   },
   "outputs": [],
   "source": [
    "total_masks = []\n",
    "for image in tqdm(train_image_data):\n",
    "    Big_Mask = du.get_total_mask(image, train_mask_data)\n",
    "    total_masks.append(Big_Mask)"
   ]
  },
  {
   "cell_type": "markdown",
   "metadata": {},
   "source": [
    "# Step 3: Make Submission"
   ]
  },
  {
   "cell_type": "code",
   "execution_count": 100,
   "metadata": {
    "collapsed": true
   },
   "outputs": [],
   "source": [
    "IDs = []\n",
    "predictions = []\n",
    "for i in range(len(test_image_data)):\n",
    "    im = test_image_data[i]\n",
    "    im_id = im.path\n",
    "    predicted = models.watershed_seg(test_im.im)\n",
    "    IDs.append(im_id)\n",
    "    predictions.append(predicted)"
   ]
  },
  {
   "cell_type": "code",
   "execution_count": 101,
   "metadata": {},
   "outputs": [
    {
     "name": "stdout",
     "output_type": "stream",
     "text": [
      "4875\n",
      "4875\n"
     ]
    }
   ],
   "source": [
    "du.make_submission(IDs, predictions, \"4_7_2018_1.csv\")"
   ]
  }
 ],
 "metadata": {
  "kernelspec": {
   "display_name": "Python 2",
   "language": "python",
   "name": "python2"
  },
  "language_info": {
   "codemirror_mode": {
    "name": "ipython",
    "version": 2
   },
   "file_extension": ".py",
   "mimetype": "text/x-python",
   "name": "python",
   "nbconvert_exporter": "python",
   "pygments_lexer": "ipython2",
   "version": "2.7.13"
  }
 },
 "nbformat": 4,
 "nbformat_minor": 2
}
