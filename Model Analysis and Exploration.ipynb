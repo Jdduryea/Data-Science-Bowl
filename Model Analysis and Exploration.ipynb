{
 "cells": [
  {
   "cell_type": "markdown",
   "metadata": {},
   "source": [
    "# In this notebook, we explore various models and their performance on the dataset\n",
    "\n",
    "Jack Duryea (jd50), Shashank Mahesh (sm103)\n"
   ]
  },
  {
   "cell_type": "code",
   "execution_count": 1,
   "metadata": {},
   "outputs": [],
   "source": [
    "import pathlib\n",
    "import imageio\n",
    "import numpy as np\n",
    "import matplotlib.pyplot as plt\n",
    "import os\n",
    "from skimage.color import rgb2gray\n",
    "from scipy import stats\n",
    "import glob\n",
    "import data_utils as du\n",
    "import cv2\n",
    "from collections import defaultdict\n",
    "from skimage.color import rgb2gray\n",
    "import models\n",
    "import sklearn\n",
    "import scipy.stats as stats\n",
    "from sklearn.metrics import confusion_matrix\n",
    "import warnings\n",
    "warnings.simplefilter(\"ignore\", DeprecationWarning)\n",
    "with warnings.catch_warnings():\n",
    "    warnings.filterwarnings(\"ignore\",category=DeprecationWarning)\n",
    "    import md5, sha\n",
    "%matplotlib inline\n",
    "\n",
    "%load_ext autoreload\n",
    "%autoreload 2"
   ]
  },
  {
   "cell_type": "markdown",
   "metadata": {},
   "source": [
    "# Models Selection\n",
    "We are currently thinking about using the following models:  \n",
    "Otsu Thresholding   \n",
    "Spectral clustering "
   ]
  },
  {
   "cell_type": "markdown",
   "metadata": {},
   "source": [
    "### Load data"
   ]
  },
  {
   "cell_type": "code",
   "execution_count": 2,
   "metadata": {
    "collapsed": true
   },
   "outputs": [],
   "source": [
    "train_image_data = du.get_train_images() \n",
    "train_mask_data  = du.get_train_masks()\n",
    "test_image_data = du.get_test_images()"
   ]
  },
  {
   "cell_type": "code",
   "execution_count": 3,
   "metadata": {
    "collapsed": true
   },
   "outputs": [],
   "source": [
    "im1 = train_image_data[0]\n",
    "m1 = train_mask_data[10]\n",
    "m2 = train_mask_data[11]"
   ]
  },
  {
   "cell_type": "markdown",
   "metadata": {},
   "source": [
    "### combine the masks for each image, these are the \"Truths\""
   ]
  },
  {
   "cell_type": "code",
   "execution_count": 4,
   "metadata": {
    "collapsed": true
   },
   "outputs": [],
   "source": [
    "total_masks = []\n",
    "for image in train_image_data:\n",
    "    Big_Mask = du.get_total_mask(image, train_mask_data)\n",
    "    total_masks.append(Big_Mask)"
   ]
  },
  {
   "cell_type": "markdown",
   "metadata": {},
   "source": [
    "# Model 1: Naive Thresholding"
   ]
  },
  {
   "cell_type": "code",
   "execution_count": null,
   "metadata": {},
   "outputs": [],
   "source": [
    "# An example of how this model works along with visualization\n",
    "index = 101\n",
    "im1 = train_image_data[index]\n",
    "truth = total_masks[index]\n",
    "predicted = models.naive_threshold(im1)\n",
    "plt.imshow(im1.im)\n",
    "print \"Actual Image\"\n",
    "plt.show()\n",
    "plt.imshow(truth)\n",
    "print \"Actual Nuclei\"\n",
    "plt.show()\n",
    "plt.imshow(predicted)\n",
    "print \"Predicted Nuclei\"\n",
    "plt.show()\n",
    "\n",
    "\n",
    "models.score(truth, predicted)"
   ]
  },
  {
   "cell_type": "code",
   "execution_count": null,
   "metadata": {
    "collapsed": true
   },
   "outputs": [],
   "source": [
    "# Get global score\n",
    "num_examples = 100\n",
    "accs = []\n",
    "for i in range(num_examples):\n",
    "    im1 = train_image_data[i]\n",
    "    truth = total_masks[i]\n",
    "    predicted = models.naive_threshold(im1)\n",
    "    acc, tn, fp, fn, tp, conf_mat = models.score(truth, predicted)\n",
    "    accs.append(acc)"
   ]
  },
  {
   "cell_type": "code",
   "execution_count": null,
   "metadata": {},
   "outputs": [],
   "source": [
    "plt.xlabel(\"Accuracy\")\n",
    "plt.ylabel(\"Freq\")\n",
    "plt.hist(accs)"
   ]
  },
  {
   "cell_type": "markdown",
   "metadata": {},
   "source": [
    "### Hyperparamter tuning, change threshold"
   ]
  },
  {
   "cell_type": "code",
   "execution_count": null,
   "metadata": {},
   "outputs": [],
   "source": [
    "thresholds = [0, 0.1, 0.2, 0.3, 0.4, 0.5, 0.6, 0.7, 0.8, 0.9, 1]\n",
    "avg_accs = []\n",
    "for thr in thresholds:\n",
    "    print \"thr:\",thr\n",
    "    num_examples = 30\n",
    "    accs = []\n",
    "    for i in range(10, 10+num_examples):\n",
    "        im1 = train_image_data[i]\n",
    "        truth = total_masks[i]\n",
    "        predicted = models.naive_threshold(im1, thr)\n",
    "        acc, tn, fp, fn, tp, conf_mat = models.score(truth, predicted)\n",
    "        accs.append(acc)\n",
    "    avg_acc = np.mean(accs)\n",
    "    avg_accs.append(avg_acc)"
   ]
  },
  {
   "cell_type": "code",
   "execution_count": null,
   "metadata": {},
   "outputs": [],
   "source": [
    "plt.xlabel(\"Threshold\")\n",
    "plt.ylabel(\"Average Accuracy\")\n",
    "plt.plot(thresholds, avg_accs)"
   ]
  },
  {
   "cell_type": "markdown",
   "metadata": {},
   "source": [
    "### From a small sample, it seems that a threshold of 0.1 works the best, let's scale it up a bit"
   ]
  },
  {
   "cell_type": "code",
   "execution_count": null,
   "metadata": {},
   "outputs": [],
   "source": [
    "len(train_image_data)"
   ]
  },
  {
   "cell_type": "code",
   "execution_count": null,
   "metadata": {
    "collapsed": true
   },
   "outputs": [],
   "source": [
    "num_examples = 10\n",
    "accs = []\n",
    "tps = 0\n",
    "fps = 0\n",
    "fns = 0\n",
    "tns = 0\n",
    "for i in range(0, num_examples):\n",
    "    im = train_image_data[i]\n",
    "    truth = total_masks[i]\n",
    "    predicted = models.naive_threshold(im, thresh=0.1)\n",
    "    acc, tn, fp, fn, tp, conf_mat = models.score(truth, predicted)\n",
    "    accs.append(acc)\n",
    "    tns += tn\n",
    "    fps += fp\n",
    "    fns += fn\n",
    "    tps += tp\n"
   ]
  },
  {
   "cell_type": "code",
   "execution_count": null,
   "metadata": {},
   "outputs": [],
   "source": [
    "acc, pre, rec, f1_score = models.get_metrics(tps, fps, tns, fns)\n"
   ]
  },
  {
   "cell_type": "code",
   "execution_count": null,
   "metadata": {},
   "outputs": [],
   "source": [
    "du.plot_confusion_matrix([[tps,fns],[fps,tns]])"
   ]
  },
  {
   "cell_type": "markdown",
   "metadata": {},
   "source": [
    "# Model 2: Otsu Thresholding"
   ]
  },
  {
   "cell_type": "code",
   "execution_count": null,
   "metadata": {
    "collapsed": true
   },
   "outputs": [],
   "source": [
    "num_examples = 10\n",
    "accs = []\n",
    "tps = 0\n",
    "fps = 0\n",
    "fns = 0\n",
    "tns = 0\n",
    "for i in range(0, num_examples):\n",
    "    im = train_image_data[i]\n",
    "    truth = total_masks[i]\n",
    "    predicted = models.otsu_threshold(im)\n",
    "    acc, tn, fp, fn, tp, conf_mat = models.score(truth, predicted)\n",
    "    accs.append(acc)\n",
    "    tns += tn\n",
    "    fps += fp\n",
    "    fns += fn\n",
    "    tps += tp"
   ]
  },
  {
   "cell_type": "code",
   "execution_count": null,
   "metadata": {},
   "outputs": [],
   "source": [
    "acc, pre, rec, f1_score = models.get_metrics(tps, fps, tns, fns)"
   ]
  },
  {
   "cell_type": "code",
   "execution_count": null,
   "metadata": {},
   "outputs": [],
   "source": [
    "du.plot_confusion_matrix([[tps,fns],[fps,tns]])"
   ]
  },
  {
   "cell_type": "markdown",
   "metadata": {},
   "source": [
    "# Model 3: Slic Thresholding"
   ]
  },
  {
   "cell_type": "code",
   "execution_count": null,
   "metadata": {
    "collapsed": true
   },
   "outputs": [],
   "source": [
    "num_examples = 10\n",
    "accs = []\n",
    "tps = 0\n",
    "fps = 0\n",
    "fns = 0\n",
    "tns = 0\n",
    "for i in range(0, num_examples):\n",
    "    im = train_image_data[i]\n",
    "    truth = total_masks[i]\n",
    "    predicted = models.random_walk_threshold(im)\n",
    "    acc, tn, fp, fn, tp, conf_mat = models.score(truth, predicted)\n",
    "    accs.append(acc)\n",
    "    tns += tn\n",
    "    fps += fp\n",
    "    fns += fn\n",
    "    tps += tp"
   ]
  },
  {
   "cell_type": "code",
   "execution_count": 221,
   "metadata": {
    "collapsed": true
   },
   "outputs": [],
   "source": [
    "from skimage.segmentation import felzenszwalb, slic, quickshift, watershed"
   ]
  },
  {
   "cell_type": "code",
   "execution_count": null,
   "metadata": {},
   "outputs": [],
   "source": [
    "acc, pre, rec, f1_score = models.get_metrics(tps, fps, tns, fns)"
   ]
  },
  {
   "cell_type": "code",
   "execution_count": 269,
   "metadata": {},
   "outputs": [],
   "source": [
    "img = train_image_data[10].im\n",
    "bw = rgb2gray(img)\n",
    "\n",
    "test = models.random_walk_threshold(sub_images[10])"
   ]
  },
  {
   "cell_type": "code",
   "execution_count": 270,
   "metadata": {},
   "outputs": [
    {
     "data": {
      "text/plain": [
       "<matplotlib.image.AxesImage at 0x1104bec90>"
      ]
     },
     "execution_count": 270,
     "metadata": {},
     "output_type": "execute_result"
    },
    {
     "data": {
      "image/png": "[encoded data removed]",
      "text/plain": [
       "<matplotlib.figure.Figure at 0x349b93bd0>"
      ]
     },
     "metadata": {},
     "output_type": "display_data"
    }
   ],
   "source": [
    "plt.imshow(test)"
   ]
  },
  {
   "cell_type": "code",
   "execution_count": 337,
   "metadata": {},
   "outputs": [
    {
     "data": {
      "text/plain": [
       "<matplotlib.image.AxesImage at 0x35c6f8310>"
      ]
     },
     "execution_count": 337,
     "metadata": {},
     "output_type": "execute_result"
    },
    {
     "data": {
      "image/png": "[encoded data removed]",
      "text/plain": [
       "<matplotlib.figure.Figure at 0x35c623d90>"
      ]
     },
     "metadata": {},
     "output_type": "display_data"
    }
   ],
   "source": [
    "plt.imshow(sub_images[100])"
   ]
  },
  {
   "cell_type": "code",
   "execution_count": 336,
   "metadata": {},
   "outputs": [
    {
     "data": {
      "text/plain": [
       "<matplotlib.image.AxesImage at 0x35c5e9810>"
      ]
     },
     "execution_count": 336,
     "metadata": {},
     "output_type": "execute_result"
    },
    {
     "data": {
      "image/png": "[encoded data removed]",
      "text/plain": [
       "<matplotlib.figure.Figure at 0x355195050>"
      ]
     },
     "metadata": {},
     "output_type": "display_data"
    }
   ],
   "source": [
    "plt.imshow(sub_masks[100])"
   ]
  },
  {
   "cell_type": "markdown",
   "metadata": {},
   "source": [
    "# Scratch work"
   ]
  },
  {
   "cell_type": "code",
   "execution_count": 302,
   "metadata": {},
   "outputs": [],
   "source": [
    "sub_images, sub_masks = du.convolve(train_image_data[10],total_masks[10], sample_size=200)"
   ]
  },
  {
   "cell_type": "code",
   "execution_count": 332,
   "metadata": {},
   "outputs": [
    {
     "data": {
      "image/png": "[encoded data removed]",
      "text/plain": [
       "<matplotlib.figure.Figure at 0x35c2ab050>"
      ]
     },
     "metadata": {},
     "output_type": "display_data"
    },
    {
     "data": {
      "text/plain": [
       "<matplotlib.image.AxesImage at 0x35c50b210>"
      ]
     },
     "execution_count": 332,
     "metadata": {},
     "output_type": "execute_result"
    },
    {
     "data": {
      "image/png": "[encoded data removed]",
      "text/plain": [
       "<matplotlib.figure.Figure at 0x35c392d10>"
      ]
     },
     "metadata": {},
     "output_type": "display_data"
    }
   ],
   "source": [
    "i=4\n",
    "plt.imshow(sub_images[i])\n",
    "plt.show()\n",
    "plt.imshow(sub_masks[i])"
   ]
  },
  {
   "cell_type": "code",
   "execution_count": 263,
   "metadata": {},
   "outputs": [],
   "source": [
    "# source: https://www.kaggle.com/sjoly123/kerasunet-281\n",
    "\n",
    "# Neural net model\n",
    "import os\n",
    "import sys\n",
    "import random\n",
    "import warnings\n",
    "\n",
    "import numpy as np\n",
    "import pandas as pd\n",
    "\n",
    "import matplotlib.pyplot as plt\n",
    "\n",
    "from tqdm import tqdm\n",
    "from itertools import chain\n",
    "from skimage.io import imread, imshow, imread_collection, concatenate_images\n",
    "from skimage.transform import resize\n",
    "from skimage.morphology import label\n",
    "\n",
    "from scipy.ndimage.filters import gaussian_laplace\n",
    "\n",
    "from keras.models import Model, load_model\n",
    "from keras.layers import Input\n",
    "from keras.layers.core import Dropout, Lambda\n",
    "from keras.layers.convolutional import Conv2D, Conv2DTranspose\n",
    "from keras.layers.pooling import MaxPooling2D\n",
    "from keras.layers.merge import concatenate\n",
    "from keras.callbacks import EarlyStopping, ModelCheckpoint\n",
    "from keras import backend as K\n",
    "import scipy\n",
    "import tensorflow as tf\n",
    "\n",
    "# Set some parameters\n",
    "IMG_WIDTH = 128\n",
    "IMG_HEIGHT = 128\n",
    "IMG_CHANNELS = 1"
   ]
  },
  {
   "cell_type": "code",
   "execution_count": 264,
   "metadata": {
    "collapsed": true
   },
   "outputs": [],
   "source": [
    "# source: https://www.kaggle.com/sjoly123/kerasunet-281\n",
    "\n",
    "def mean_iou(y_true, y_pred):\n",
    "    prec = []\n",
    "    for t in np.arange(0.5, 1.0, 0.05):\n",
    "        y_pred_ = tf.to_int32(y_pred > t)\n",
    "        score, up_opt = tf.metrics.mean_iou(y_true, y_pred_, 2)\n",
    "        K.get_session().run(tf.local_variables_initializer())\n",
    "        with tf.control_dependencies([up_opt]):\n",
    "            score = tf.identity(score)\n",
    "        prec.append(score)\n",
    "    return K.mean(K.stack(prec), axis=0)"
   ]
  },
  {
   "cell_type": "code",
   "execution_count": 314,
   "metadata": {},
   "outputs": [
    {
     "name": "stdout",
     "output_type": "stream",
     "text": [
      "____________________________________________________________________________________________________\n",
      "Layer (type)                     Output Shape          Param #     Connected to                     \n",
      "====================================================================================================\n",
      "input_5 (InputLayer)             (None, 128, 128, 1)   0                                            \n",
      "____________________________________________________________________________________________________\n",
      "lambda_5 (Lambda)                (None, 128, 128, 1)   0           input_5[0][0]                    \n",
      "____________________________________________________________________________________________________\n",
      "conv2d_77 (Conv2D)               (None, 128, 128, 8)   16          lambda_5[0][0]                   \n",
      "____________________________________________________________________________________________________\n",
      "conv2d_78 (Conv2D)               (None, 128, 128, 8)   584         conv2d_77[0][0]                  \n",
      "____________________________________________________________________________________________________\n",
      "max_pooling2d_17 (MaxPooling2D)  (None, 64, 64, 8)     0           conv2d_78[0][0]                  \n",
      "____________________________________________________________________________________________________\n",
      "conv2d_79 (Conv2D)               (None, 64, 64, 16)    1168        max_pooling2d_17[0][0]           \n",
      "____________________________________________________________________________________________________\n",
      "conv2d_80 (Conv2D)               (None, 64, 64, 16)    2320        conv2d_79[0][0]                  \n",
      "____________________________________________________________________________________________________\n",
      "max_pooling2d_18 (MaxPooling2D)  (None, 32, 32, 16)    0           conv2d_80[0][0]                  \n",
      "____________________________________________________________________________________________________\n",
      "conv2d_81 (Conv2D)               (None, 32, 32, 32)    4640        max_pooling2d_18[0][0]           \n",
      "____________________________________________________________________________________________________\n",
      "conv2d_82 (Conv2D)               (None, 32, 32, 32)    9248        conv2d_81[0][0]                  \n",
      "____________________________________________________________________________________________________\n",
      "max_pooling2d_19 (MaxPooling2D)  (None, 16, 16, 32)    0           conv2d_82[0][0]                  \n",
      "____________________________________________________________________________________________________\n",
      "conv2d_83 (Conv2D)               (None, 16, 16, 64)    18496       max_pooling2d_19[0][0]           \n",
      "____________________________________________________________________________________________________\n",
      "conv2d_84 (Conv2D)               (None, 16, 16, 64)    36928       conv2d_83[0][0]                  \n",
      "____________________________________________________________________________________________________\n",
      "max_pooling2d_20 (MaxPooling2D)  (None, 8, 8, 64)      0           conv2d_84[0][0]                  \n",
      "____________________________________________________________________________________________________\n",
      "conv2d_85 (Conv2D)               (None, 8, 8, 128)     73856       max_pooling2d_20[0][0]           \n",
      "____________________________________________________________________________________________________\n",
      "conv2d_86 (Conv2D)               (None, 8, 8, 128)     147584      conv2d_85[0][0]                  \n",
      "____________________________________________________________________________________________________\n",
      "conv2d_transpose_19 (Conv2DTrans (None, 16, 16, 64)    32832       conv2d_86[0][0]                  \n",
      "____________________________________________________________________________________________________\n",
      "concatenate_17 (Concatenate)     (None, 16, 16, 128)   0           conv2d_transpose_19[0][0]        \n",
      "                                                                   conv2d_84[0][0]                  \n",
      "____________________________________________________________________________________________________\n",
      "conv2d_87 (Conv2D)               (None, 16, 16, 64)    73792       concatenate_17[0][0]             \n",
      "____________________________________________________________________________________________________\n",
      "conv2d_88 (Conv2D)               (None, 16, 16, 64)    36928       conv2d_87[0][0]                  \n",
      "____________________________________________________________________________________________________\n",
      "conv2d_transpose_20 (Conv2DTrans (None, 32, 32, 32)    8224        conv2d_88[0][0]                  \n",
      "____________________________________________________________________________________________________\n",
      "concatenate_18 (Concatenate)     (None, 32, 32, 64)    0           conv2d_transpose_20[0][0]        \n",
      "                                                                   conv2d_82[0][0]                  \n",
      "____________________________________________________________________________________________________\n",
      "conv2d_89 (Conv2D)               (None, 32, 32, 32)    18464       concatenate_18[0][0]             \n",
      "____________________________________________________________________________________________________\n",
      "conv2d_90 (Conv2D)               (None, 32, 32, 32)    9248        conv2d_89[0][0]                  \n",
      "____________________________________________________________________________________________________\n",
      "conv2d_transpose_21 (Conv2DTrans (None, 64, 64, 16)    2064        conv2d_90[0][0]                  \n",
      "____________________________________________________________________________________________________\n",
      "concatenate_19 (Concatenate)     (None, 64, 64, 32)    0           conv2d_transpose_21[0][0]        \n",
      "                                                                   conv2d_80[0][0]                  \n",
      "____________________________________________________________________________________________________\n",
      "conv2d_91 (Conv2D)               (None, 64, 64, 16)    4624        concatenate_19[0][0]             \n",
      "____________________________________________________________________________________________________\n",
      "conv2d_92 (Conv2D)               (None, 64, 64, 16)    2320        conv2d_91[0][0]                  \n",
      "____________________________________________________________________________________________________\n",
      "conv2d_transpose_22 (Conv2DTrans (None, 128, 128, 8)   520         conv2d_92[0][0]                  \n",
      "____________________________________________________________________________________________________\n",
      "concatenate_20 (Concatenate)     (None, 128, 128, 16)  0           conv2d_transpose_22[0][0]        \n",
      "                                                                   conv2d_78[0][0]                  \n",
      "____________________________________________________________________________________________________\n",
      "conv2d_93 (Conv2D)               (None, 128, 128, 8)   1160        concatenate_20[0][0]             \n",
      "____________________________________________________________________________________________________\n",
      "conv2d_94 (Conv2D)               (None, 128, 128, 8)   584         conv2d_93[0][0]                  \n",
      "____________________________________________________________________________________________________\n",
      "conv2d_95 (Conv2D)               (None, 128, 128, 1)   9           conv2d_94[0][0]                  \n",
      "====================================================================================================\n",
      "Total params: 485,609\n",
      "Trainable params: 485,609\n",
      "Non-trainable params: 0\n",
      "____________________________________________________________________________________________________\n"
     ]
    }
   ],
   "source": [
    "# source: https://www.kaggle.com/sjoly123/kerasunet-281\n",
    "inputs = Input((IMG_HEIGHT, IMG_WIDTH, IMG_CHANNELS))\n",
    "s = Lambda(lambda x: x / 255) (inputs)\n",
    "\n",
    "c1 = Conv2D(8, (1, 1), activation='relu', padding='same') (s)\n",
    "c1 = Conv2D(8, (3, 3), activation='relu', padding='same') (c1)\n",
    "p1 = MaxPooling2D((2, 2)) (c1)\n",
    "\n",
    "c2 = Conv2D(16, (3, 3), activation='relu', padding='same') (p1)\n",
    "c2 = Conv2D(16, (3, 3), activation='relu', padding='same') (c2)\n",
    "p2 = MaxPooling2D((2, 2)) (c2)\n",
    "\n",
    "c3 = Conv2D(32, (3, 3), activation='relu', padding='same') (p2)\n",
    "c3 = Conv2D(32, (3, 3), activation='relu', padding='same') (c3)\n",
    "p3 = MaxPooling2D((2, 2)) (c3)\n",
    "\n",
    "c4 = Conv2D(64, (3, 3), activation='relu', padding='same') (p3)\n",
    "c4 = Conv2D(64, (3, 3), activation='relu', padding='same') (c4)\n",
    "p4 = MaxPooling2D(pool_size=(2, 2)) (c4)\n",
    "\n",
    "c5 = Conv2D(128, (3, 3), activation='relu', padding='same') (p4)\n",
    "c5 = Conv2D(128, (3, 3), activation='relu', padding='same') (c5)\n",
    "\n",
    "u6 = Conv2DTranspose(64, (2, 2), strides=(2, 2), padding='same') (c5)\n",
    "u6 = concatenate([u6, c4])\n",
    "c6 = Conv2D(64, (3, 3), activation='relu', padding='same') (u6)\n",
    "c6 = Conv2D(64, (3, 3), activation='relu', padding='same') (c6)\n",
    "\n",
    "u7 = Conv2DTranspose(32, (2, 2), strides=(2, 2), padding='same') (c6)\n",
    "u7 = concatenate([u7, c3])\n",
    "c7 = Conv2D(32, (3, 3), activation='relu', padding='same') (u7)\n",
    "c7 = Conv2D(32, (3, 3), activation='relu', padding='same') (c7)\n",
    "\n",
    "u8 = Conv2DTranspose(16, (2, 2), strides=(2, 2), padding='same') (c7)\n",
    "u8 = concatenate([u8, c2])\n",
    "c8 = Conv2D(16, (3, 3), activation='relu', padding='same') (u8)\n",
    "c8 = Conv2D(16, (3, 3), activation='relu', padding='same') (c8)\n",
    "\n",
    "u9 = Conv2DTranspose(8, (2, 2), strides=(2, 2), padding='same') (c8)\n",
    "u9 = concatenate([u9, c1], axis=3)\n",
    "c9 = Conv2D(8, (3, 3), activation='relu', padding='same') (u9)\n",
    "c9 = Conv2D(8, (3, 3), activation='relu', padding='same') (c9)\n",
    "\n",
    "outputs = Conv2D(1, (1, 1), activation='sigmoid') (c9)\n",
    "\n",
    "model = Model(inputs=[inputs], outputs=[outputs])\n",
    "model.compile(optimizer='adam', loss='binary_crossentropy', metrics=[mean_iou])\n",
    "model.summary()"
   ]
  },
  {
   "cell_type": "code",
   "execution_count": 315,
   "metadata": {},
   "outputs": [
    {
     "data": {
      "text/plain": [
       "200"
      ]
     },
     "execution_count": 315,
     "metadata": {},
     "output_type": "execute_result"
    }
   ],
   "source": [
    "len(sub_images)"
   ]
  },
  {
   "cell_type": "code",
   "execution_count": 316,
   "metadata": {},
   "outputs": [],
   "source": [
    "X_train = sub_images.reshape(len(sub_images),128,128,1)\n",
    "y_train = sub_masks.reshape(len(sub_images),128,128,1)"
   ]
  },
  {
   "cell_type": "code",
   "execution_count": 324,
   "metadata": {},
   "outputs": [
    {
     "name": "stdout",
     "output_type": "stream",
     "text": [
      "Train on 180 samples, validate on 20 samples\n",
      "Epoch 1/10\n",
      "180/180 [==============================] - 11s - loss: 0.2896 - mean_iou: 0.3831 - val_loss: 0.3134 - val_mean_iou: 0.3883\n",
      "Epoch 2/10\n",
      "180/180 [==============================] - 11s - loss: 0.2837 - mean_iou: 0.3925 - val_loss: 0.2118 - val_mean_iou: 0.3968\n",
      "Epoch 3/10\n",
      "180/180 [==============================] - 11s - loss: 0.2404 - mean_iou: 0.4004 - val_loss: 0.1996 - val_mean_iou: 0.4042\n",
      "Epoch 4/10\n",
      "180/180 [==============================] - 11s - loss: 0.2388 - mean_iou: 0.4073 - val_loss: 0.2372 - val_mean_iou: 0.4105\n",
      "Epoch 5/10\n",
      "180/180 [==============================] - 11s - loss: 0.2222 - mean_iou: 0.4132 - val_loss: 0.2167 - val_mean_iou: 0.4161\n",
      "Epoch 6/10\n",
      "180/180 [==============================] - 11s - loss: 0.2260 - mean_iou: 0.4185 - val_loss: 0.2243 - val_mean_iou: 0.4210\n",
      "Epoch 7/10\n",
      "180/180 [==============================] - 11s - loss: 0.2160 - mean_iou: 0.4231 - val_loss: 0.1787 - val_mean_iou: 0.4254\n",
      "Epoch 8/10\n",
      "180/180 [==============================] - 11s - loss: 0.1885 - mean_iou: 0.4273 - val_loss: 0.1777 - val_mean_iou: 0.4293\n",
      "Epoch 9/10\n",
      "180/180 [==============================] - 11s - loss: 0.1766 - mean_iou: 0.4310 - val_loss: 0.1696 - val_mean_iou: 0.4328\n",
      "Epoch 10/10\n",
      "180/180 [==============================] - 11s - loss: 0.1730 - mean_iou: 0.4344 - val_loss: 0.1694 - val_mean_iou: 0.4360\n"
     ]
    }
   ],
   "source": [
    "earlystopper = EarlyStopping(patience=5, verbose=1)\n",
    "checkpointer = ModelCheckpoint('model-dsbowl2018-1.h5', verbose=1, save_best_only=True)\n",
    "#results = model.fit(X_train, y_train, validation_split=0.1, batch_size=16, epochs=1, callbacks=[earlystopper, checkpointer])\n",
    "results = model.fit(X_train, y_train, validation_split=0.1, batch_size=32, epochs=10)"
   ]
  },
  {
   "cell_type": "code",
   "execution_count": 325,
   "metadata": {},
   "outputs": [],
   "source": [
    "test1 = model.predict(X_train[10:11])[0].reshape(128,128)"
   ]
  },
  {
   "cell_type": "code",
   "execution_count": 326,
   "metadata": {},
   "outputs": [
    {
     "data": {
      "text/plain": [
       "<matplotlib.image.AxesImage at 0x345595b90>"
      ]
     },
     "execution_count": 326,
     "metadata": {},
     "output_type": "execute_result"
    },
    {
     "data": {
      "image/png": "[encoded data removed]",
      "text/plain": [
       "<matplotlib.figure.Figure at 0x355a55e50>"
      ]
     },
     "metadata": {},
     "output_type": "display_data"
    }
   ],
   "source": [
    "plt.imshow(test1)"
   ]
  },
  {
   "cell_type": "code",
   "execution_count": 327,
   "metadata": {},
   "outputs": [
    {
     "data": {
      "text/plain": [
       "array([[0, 0, 0, ..., 0, 0, 0],\n",
       "       [0, 0, 0, ..., 0, 0, 0],\n",
       "       [0, 0, 0, ..., 0, 0, 0],\n",
       "       ..., \n",
       "       [1, 1, 1, ..., 1, 1, 1],\n",
       "       [1, 1, 1, ..., 1, 1, 1],\n",
       "       [1, 1, 1, ..., 1, 1, 1]], dtype=uint8)"
      ]
     },
     "execution_count": 327,
     "metadata": {},
     "output_type": "execute_result"
    }
   ],
   "source": [
    "sub_masks[10]"
   ]
  },
  {
   "cell_type": "code",
   "execution_count": 328,
   "metadata": {},
   "outputs": [
    {
     "data": {
      "text/plain": [
       "<matplotlib.image.AxesImage at 0x35a5ed410>"
      ]
     },
     "execution_count": 328,
     "metadata": {},
     "output_type": "execute_result"
    },
    {
     "data": {
      "image/png": "[encoded data removed]",
      "text/plain": [
       "<matplotlib.figure.Figure at 0x3455b15d0>"
      ]
     },
     "metadata": {},
     "output_type": "display_data"
    }
   ],
   "source": [
    "plt.imshow(sub_images[10])"
   ]
  },
  {
   "cell_type": "code",
   "execution_count": null,
   "metadata": {},
   "outputs": [],
   "source": [
    "plt.imshow(Big_Mask,cmap='Greys')"
   ]
  },
  {
   "cell_type": "code",
   "execution_count": null,
   "metadata": {},
   "outputs": [],
   "source": [
    "plt.imshow(im1.im,cmap='Greys')"
   ]
  },
  {
   "cell_type": "code",
   "execution_count": null,
   "metadata": {},
   "outputs": [],
   "source": [
    "plt.imshow(Big_Mask,cmap='Greys')"
   ]
  },
  {
   "cell_type": "code",
   "execution_count": null,
   "metadata": {
    "collapsed": true
   },
   "outputs": [],
   "source": [
    "plt.imshow(m2.im,cmap='Greys')"
   ]
  },
  {
   "cell_type": "code",
   "execution_count": null,
   "metadata": {
    "collapsed": true
   },
   "outputs": [],
   "source": [
    "plt.imshow(m2.im + m1.im,cmap='Greys')"
   ]
  },
  {
   "cell_type": "code",
   "execution_count": null,
   "metadata": {
    "collapsed": true
   },
   "outputs": [],
   "source": [
    "m1.im.shape"
   ]
  },
  {
   "cell_type": "code",
   "execution_count": null,
   "metadata": {
    "collapsed": true
   },
   "outputs": [],
   "source": [
    "im1.im.shape"
   ]
  },
  {
   "cell_type": "code",
   "execution_count": null,
   "metadata": {
    "collapsed": true
   },
   "outputs": [],
   "source": [
    "plt.imshow(rgb2gray(im1.im),cmap='Greys')"
   ]
  },
  {
   "cell_type": "code",
   "execution_count": null,
   "metadata": {
    "collapsed": true
   },
   "outputs": [],
   "source": [
    "\"00071198d059ba7f5914a526d124d28e6d010c92466da21d4a04cd5413362552\"\n",
    "im1.dir_id"
   ]
  },
  {
   "cell_type": "code",
   "execution_count": null,
   "metadata": {
    "collapsed": true
   },
   "outputs": [],
   "source": [
    "mask = models.naive_threshold(im1)"
   ]
  },
  {
   "cell_type": "code",
   "execution_count": null,
   "metadata": {
    "collapsed": true
   },
   "outputs": [],
   "source": [
    "bw = rgb2gray(im1.im)"
   ]
  },
  {
   "cell_type": "code",
   "execution_count": null,
   "metadata": {
    "collapsed": true
   },
   "outputs": [],
   "source": [
    "bw2 = np.where(bw>0.1,1,0)"
   ]
  },
  {
   "cell_type": "code",
   "execution_count": null,
   "metadata": {
    "collapsed": true
   },
   "outputs": [],
   "source": [
    "plt.imshow(mask,cmap='Greys')"
   ]
  },
  {
   "cell_type": "code",
   "execution_count": null,
   "metadata": {
    "collapsed": true
   },
   "outputs": [],
   "source": [
    "du.encode(bw2)"
   ]
  },
  {
   "cell_type": "code",
   "execution_count": null,
   "metadata": {
    "collapsed": true
   },
   "outputs": [],
   "source": [
    "test_rle_string = du.rle_to_string(du.encode(bw2))\n",
    "test_rle_string"
   ]
  },
  {
   "cell_type": "code",
   "execution_count": null,
   "metadata": {
    "collapsed": true
   },
   "outputs": [],
   "source": [
    "du.rle_decode(test_rle_string,mask.shape, mask.dtype )"
   ]
  },
  {
   "cell_type": "code",
   "execution_count": null,
   "metadata": {
    "collapsed": true
   },
   "outputs": [],
   "source": [
    "mask"
   ]
  },
  {
   "cell_type": "code",
   "execution_count": null,
   "metadata": {
    "collapsed": true
   },
   "outputs": [],
   "source": [
    "m = m1.im\n",
    "m[m > 1] = 1"
   ]
  },
  {
   "cell_type": "code",
   "execution_count": null,
   "metadata": {
    "collapsed": true
   },
   "outputs": [],
   "source": [
    "stats.describe(mask.flatten())"
   ]
  },
  {
   "cell_type": "code",
   "execution_count": null,
   "metadata": {
    "collapsed": true
   },
   "outputs": [],
   "source": [
    "m"
   ]
  },
  {
   "cell_type": "code",
   "execution_count": null,
   "metadata": {
    "collapsed": true
   },
   "outputs": [],
   "source": [
    "mask"
   ]
  },
  {
   "cell_type": "code",
   "execution_count": null,
   "metadata": {
    "collapsed": true
   },
   "outputs": [],
   "source": [
    "ytrue = np.array([1,0,0])\n",
    "ypred = np.array([1,1,1])\n",
    "models.score(m1.im, mask)"
   ]
  },
  {
   "cell_type": "code",
   "execution_count": null,
   "metadata": {
    "collapsed": true
   },
   "outputs": [],
   "source": [
    "m3 = m2.im + m1.im"
   ]
  },
  {
   "cell_type": "code",
   "execution_count": null,
   "metadata": {
    "collapsed": true
   },
   "outputs": [],
   "source": [
    "plt.imshow(m3)"
   ]
  },
  {
   "cell_type": "code",
   "execution_count": null,
   "metadata": {
    "collapsed": true
   },
   "outputs": [],
   "source": [
    "np.count_nonzero(m1.im.flatten())"
   ]
  },
  {
   "cell_type": "code",
   "execution_count": null,
   "metadata": {
    "collapsed": true
   },
   "outputs": [],
   "source": [
    "np.count_nonzero(m2.im.flatten())"
   ]
  },
  {
   "cell_type": "code",
   "execution_count": null,
   "metadata": {
    "collapsed": true
   },
   "outputs": [],
   "source": [
    "np.count_nonzero(m3.flatten())"
   ]
  },
  {
   "cell_type": "code",
   "execution_count": null,
   "metadata": {
    "collapsed": true
   },
   "outputs": [],
   "source": [
    "m3[m3 > 0]=1"
   ]
  },
  {
   "cell_type": "code",
   "execution_count": null,
   "metadata": {
    "collapsed": true
   },
   "outputs": [],
   "source": [
    "m3"
   ]
  },
  {
   "cell_type": "code",
   "execution_count": null,
   "metadata": {
    "collapsed": true
   },
   "outputs": [],
   "source": [
    "plt.imshow(m3)"
   ]
  },
  {
   "cell_type": "code",
   "execution_count": null,
   "metadata": {
    "collapsed": true
   },
   "outputs": [],
   "source": [
    "MASK = du.combine_masks([m1,m2])"
   ]
  },
  {
   "cell_type": "code",
   "execution_count": null,
   "metadata": {
    "collapsed": true
   },
   "outputs": [],
   "source": [
    "plt.imshow(MASK)"
   ]
  },
  {
   "cell_type": "code",
   "execution_count": null,
   "metadata": {
    "collapsed": true
   },
   "outputs": [],
   "source": []
  }
 ],
 "metadata": {
  "kernelspec": {
   "display_name": "Python 2",
   "language": "python",
   "name": "python2"
  },
  "language_info": {
   "codemirror_mode": {
    "name": "ipython",
    "version": 2
   },
   "file_extension": ".py",
   "mimetype": "text/x-python",
   "name": "python",
   "nbconvert_exporter": "python",
   "pygments_lexer": "ipython2",
   "version": "2.7.13"
  }
 },
 "nbformat": 4,
 "nbformat_minor": 2
}
